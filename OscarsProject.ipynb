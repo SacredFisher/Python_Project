{
 "cells": [
  {
   "cell_type": "code",
   "execution_count": null,
   "id": "e6be0a06",
   "metadata": {},
   "outputs": [],
   "source": [
    "#Imports\n",
    "import pandas as pd\n",
    "import numpy as np\n",
    "import matplotlib.pyplot as plt\n",
    "import seaborn as sns\n",
    "import plotly\n",
    "import cufflinks as cf\n",
    "cf.go_offline()\n",
    "%matplotlib inline"
   ]
  },
  {
   "cell_type": "code",
   "execution_count": null,
   "id": "e8d52919",
   "metadata": {},
   "outputs": [],
   "source": [
    "#Special Imports\n",
    "import inflect as inf\n",
    "import re\n",
    "import requests \n",
    "import bs4\n",
    "from re import sub\n",
    "from collections import Counter"
   ]
  },
  {
   "cell_type": "code",
   "execution_count": null,
   "id": "f5652184",
   "metadata": {},
   "outputs": [],
   "source": [
    "###CAMELCASE FUNCTION###\n",
    "def camel_case(s):\n",
    "    #not true camelcase but adjusted for queries \n",
    "    \n",
    "  s = sub(r\"(_|-)+\", \" \", s).title().replace(\" \", \"\")\n",
    "  return ''.join([s[0].upper(), s[1:]])\n"
   ]
  },
  {
   "cell_type": "code",
   "execution_count": null,
   "id": "c242fb75",
   "metadata": {},
   "outputs": [],
   "source": [
    "#Read In DF\n",
    "df = pd.read_csv('BigML_Dataset_5f50a62c2fb31c516d000176.csv')"
   ]
  },
  {
   "cell_type": "code",
   "execution_count": null,
   "id": "6222d1da",
   "metadata": {},
   "outputs": [],
   "source": [
    "df.info()"
   ]
  },
  {
   "cell_type": "code",
   "execution_count": null,
   "id": "a00cb0bc",
   "metadata": {},
   "outputs": [],
   "source": [
    "df.describe()"
   ]
  },
  {
   "cell_type": "code",
   "execution_count": null,
   "id": "127021c0",
   "metadata": {},
   "outputs": [],
   "source": [
    "df.head()"
   ]
  },
  {
   "cell_type": "code",
   "execution_count": null,
   "id": "0be2f324",
   "metadata": {},
   "outputs": [],
   "source": [
    "plt.figure(figsize = (12,10))\n",
    "sns.heatmap(df.isnull(), yticklabels = False, cbar = False, cmap = 'viridis')"
   ]
  },
  {
   "cell_type": "code",
   "execution_count": null,
   "id": "c64fac49",
   "metadata": {},
   "outputs": [],
   "source": [
    "#Need to split the genre string into a list\n",
    "df['genre'] = df['genre'].apply(lambda string: string.split('|'))\n"
   ]
  },
  {
   "cell_type": "code",
   "execution_count": null,
   "id": "93a30096",
   "metadata": {},
   "outputs": [],
   "source": [
    "for i in df.columns:\n",
    "    print(i)"
   ]
  },
  {
   "cell_type": "code",
   "execution_count": null,
   "id": "e5aad7a9",
   "metadata": {},
   "outputs": [],
   "source": [
    "#Pick the Oscars columns, and some of the more reliable columns for the other movies. \n",
    "oscar = df[['year', 'movie', 'certificate', 'duration', 'metascore', 'rate', 'user_reviews',\n",
    " 'genre', 'gross', 'release_date', 'Oscar_Best_Picture_won',\n",
    " 'Oscar_Best_Picture_nominated', 'Oscar_Best_Director_won',\n",
    "'Oscar_Best_Director_nominated', 'Oscar_Best_Actor_won' ,\n",
    "'Oscar_Best_Actor_nominated', 'Oscar_Best_Actress_won',\n",
    " 'Oscar_Best_Actress_nominated',\n",
    "'Oscar_Best_Supporting_Actor_won',\n",
    "'Oscar_Best_Supporting_Actor_nominated',\n",
    "'Oscar_Best_Supporting_Actress_won',\n",
    "'Oscar_Best_Supporting_Actress_nominated',\n",
    "'Oscar_Best_AdaScreen_won',\n",
    "'Oscar_Best_AdaScreen_nominated',\n",
    "'Oscar_Best_OriScreen_won',\n",
    "'Oscar_Best_OriScreen_nominated',\n",
    "'Oscar_nominated',\n",
    "'Oscar_nominated_categories',\n",
    "'release_date.year',\n",
    "'release_date.month',\n",
    "'release_date.day-of-month',\n",
    "'release_date.day-of-week']].copy()\n"
   ]
  },
  {
   "cell_type": "code",
   "execution_count": null,
   "id": "ffa0b2e3",
   "metadata": {
    "scrolled": true
   },
   "outputs": [],
   "source": [
    "oscar.info()"
   ]
  },
  {
   "cell_type": "code",
   "execution_count": null,
   "id": "48751b94",
   "metadata": {},
   "outputs": [],
   "source": [
    "oscar.describe()"
   ]
  },
  {
   "cell_type": "code",
   "execution_count": null,
   "id": "7d59624a",
   "metadata": {},
   "outputs": [],
   "source": [
    "oscar.sort_values(['year', 'movie'])"
   ]
  },
  {
   "cell_type": "code",
   "execution_count": null,
   "id": "2ee275ab",
   "metadata": {},
   "outputs": [],
   "source": [
    "oscar = oscar.drop(['release_date.year','release_date.month','release_date.day-of-month', 'release_date.day-of-week'], axis = 1)"
   ]
  },
  {
   "cell_type": "code",
   "execution_count": null,
   "id": "26befa5f",
   "metadata": {},
   "outputs": [],
   "source": [
    "oscar.head()"
   ]
  },
  {
   "cell_type": "code",
   "execution_count": null,
   "id": "69bb070f",
   "metadata": {},
   "outputs": [],
   "source": [
    "oscar['Nominated Categories'] = oscar['Oscar_nominated_categories'].fillna('').apply(lambda line: line.split('|'))"
   ]
  },
  {
   "cell_type": "code",
   "execution_count": null,
   "id": "a6977eae",
   "metadata": {},
   "outputs": [],
   "source": [
    "oscar.drop('Oscar_nominated_categories', axis= 1, inplace = True)"
   ]
  },
  {
   "cell_type": "code",
   "execution_count": null,
   "id": "469efb23",
   "metadata": {},
   "outputs": [],
   "source": [
    "oscar.head()"
   ]
  },
  {
   "cell_type": "code",
   "execution_count": null,
   "id": "be20d97b",
   "metadata": {},
   "outputs": [],
   "source": [
    "#We map the strings No, Yes into numbers for easy evaluation\n",
    "bool_dict = {'No': 0 , 'Yes': 1}"
   ]
  },
  {
   "cell_type": "code",
   "execution_count": null,
   "id": "c7ace5f0",
   "metadata": {},
   "outputs": [],
   "source": []
  },
  {
   "cell_type": "code",
   "execution_count": null,
   "id": "3657710d",
   "metadata": {},
   "outputs": [],
   "source": [
    "oscar['Oscar_Best_Picture_won'] = oscar['Oscar_Best_Picture_won'].map(bool_dict)\n",
    "oscar['Oscar_Best_Picture_nominated'] = oscar[ 'Oscar_Best_Picture_nominated'].map(bool_dict)\n",
    "oscar['Oscar_Best_Director_won'] = oscar['Oscar_Best_Director_won'].map(bool_dict)\n",
    "oscar['Oscar_Best_Director_nominated'] = oscar['Oscar_Best_Director_nominated'].map(bool_dict)\n",
    "oscar['Oscar_Best_Actor_won'] = oscar['Oscar_Best_Actor_won'].map(bool_dict)\n",
    "oscar['Oscar_Best_Actor_nominated'] = oscar['Oscar_Best_Actor_nominated'].map(bool_dict)\n",
    "oscar['Oscar_Best_Actress_won'] = oscar['Oscar_Best_Actress_won'].map(bool_dict)\n",
    "oscar['Oscar_Best_Actress_nominated'] = oscar['Oscar_Best_Actress_nominated'].map(bool_dict)\n",
    "oscar['Oscar_Best_Supporting_Actor_won'] = oscar['Oscar_Best_Supporting_Actor_won'].map(bool_dict)\n",
    "oscar['Oscar_Best_Supporting_Actor_nominated'] = oscar['Oscar_Best_Supporting_Actor_nominated'].map(bool_dict)\n",
    "oscar['Oscar_Best_Supporting_Actress_won'] = oscar['Oscar_Best_Supporting_Actress_won'].map(bool_dict)\n",
    "oscar['Oscar_Best_Supporting_Actress_nominated'] = oscar['Oscar_Best_Supporting_Actress_nominated'].map(bool_dict)\n",
    "oscar['Oscar_Best_AdaScreen_won'] = oscar['Oscar_Best_AdaScreen_won'].map(bool_dict)\n",
    "oscar['Oscar_Best_AdaScreen_nominated'] = oscar['Oscar_Best_AdaScreen_nominated'].map(bool_dict)\n",
    "oscar['Oscar_Best_OriScreen_won'] = oscar['Oscar_Best_OriScreen_won'].map(bool_dict)\n",
    "oscar['Oscar_Best_OriScreen_nominated'] = oscar['Oscar_Best_OriScreen_nominated'].map(bool_dict)"
   ]
  },
  {
   "cell_type": "code",
   "execution_count": null,
   "id": "c9555a1a",
   "metadata": {},
   "outputs": [],
   "source": [
    "#We process the release date into a datetime object,\n",
    "#Make OscarsWon column, and Oscar Win Ratio\n",
    "#Check gross, metascore, and Oscar Win Ratio"
   ]
  },
  {
   "cell_type": "code",
   "execution_count": null,
   "id": "de2f797b",
   "metadata": {},
   "outputs": [],
   "source": [
    "oscar.head()"
   ]
  },
  {
   "cell_type": "code",
   "execution_count": null,
   "id": "f8ec21d8",
   "metadata": {},
   "outputs": [],
   "source": [
    "oscar['release_date'].apply(pd.to_datetime) #Here's where I see missing release dates\n",
    "#Let's do a heatmap to see if theres more missing stuff"
   ]
  },
  {
   "cell_type": "code",
   "execution_count": null,
   "id": "1002ebbf",
   "metadata": {},
   "outputs": [],
   "source": [
    "plt.figure(figsize = (12,10))\n",
    "sns.heatmap(oscar.isnull(), yticklabels = False, cbar = False, cmap = 'viridis')"
   ]
  },
  {
   "cell_type": "code",
   "execution_count": null,
   "id": "87db6738",
   "metadata": {},
   "outputs": [],
   "source": [
    "oscar[oscar['certificate'].isna()]"
   ]
  },
  {
   "cell_type": "code",
   "execution_count": null,
   "id": "8bbe0a2c",
   "metadata": {},
   "outputs": [],
   "source": [
    "#Manually impute missing data\n",
    "#Having manually checked these:\n",
    "#All the NA's in  the certificate column, are actually NR--Not Rated movies\n",
    "\n",
    "oscar['certificate'] = oscar['certificate'].fillna('Not Rated')\n",
    "\n"
   ]
  },
  {
   "cell_type": "code",
   "execution_count": null,
   "id": "0e3ef0ed",
   "metadata": {},
   "outputs": [],
   "source": [
    "oscar['certificate'].value_counts() #We need to move the unrated ones to Not Rated"
   ]
  },
  {
   "cell_type": "code",
   "execution_count": null,
   "id": "8af52401",
   "metadata": {},
   "outputs": [],
   "source": [
    "# doesnt work oscar[oscar['certificate']=='Unrated'].at[:,'certificate'] = 'Not Rated'"
   ]
  },
  {
   "cell_type": "code",
   "execution_count": null,
   "id": "a69a5912",
   "metadata": {},
   "outputs": [],
   "source": [
    "# doesnt work oscar['certificate'].apply(lambda line: line.replace('Unrated', 'Not Rated'))"
   ]
  },
  {
   "cell_type": "code",
   "execution_count": null,
   "id": "fa4c5ee5",
   "metadata": {},
   "outputs": [],
   "source": [
    "oscar[oscar['certificate'] == 'Unrated']"
   ]
  },
  {
   "cell_type": "code",
   "execution_count": null,
   "id": "71f160ff",
   "metadata": {},
   "outputs": [],
   "source": [
    "oscar.loc[[130,577,781,836], 'certificate'] = 'Not Rated'"
   ]
  },
  {
   "cell_type": "code",
   "execution_count": null,
   "id": "aa72d863",
   "metadata": {},
   "outputs": [],
   "source": [
    "oscar['certificate'].value_counts()"
   ]
  },
  {
   "cell_type": "code",
   "execution_count": null,
   "id": "4febbafc",
   "metadata": {},
   "outputs": [],
   "source": [
    "oscar[oscar['certificate'] == 'TV-MA']"
   ]
  },
  {
   "cell_type": "code",
   "execution_count": null,
   "id": "3f71de32",
   "metadata": {},
   "outputs": [],
   "source": [
    "plt.figure(figsize = (12,10))\n",
    "sns.heatmap(oscar.isnull(), yticklabels = False, cbar = False, cmap = 'viridis')"
   ]
  },
  {
   "cell_type": "code",
   "execution_count": null,
   "id": "1a022e34",
   "metadata": {},
   "outputs": [],
   "source": [
    "oscar[oscar['metascore'].isna()]"
   ]
  },
  {
   "cell_type": "code",
   "execution_count": null,
   "id": "2c573903",
   "metadata": {},
   "outputs": [],
   "source": [
    "oscar.loc[[88, 272, 348,\n",
    "           380, 450, 474,\n",
    "          577, 652, 669,\n",
    "           700,701,857,\n",
    "           962, 992],'metascore'] = [None ,None, 9, \n",
    "                                    71, None, 91, \n",
    "                                    None, None, None,\n",
    "                                    None, None, 73, \n",
    "                                    87, None] "
   ]
  },
  {
   "cell_type": "code",
   "execution_count": null,
   "id": "20e6b9ed",
   "metadata": {},
   "outputs": [],
   "source": [
    "oscar[oscar['metascore'].isna()] #Genuinely no metascore for these"
   ]
  },
  {
   "cell_type": "code",
   "execution_count": null,
   "id": "934629bd",
   "metadata": {},
   "outputs": [],
   "source": [
    "plt.figure(figsize = (12,10))\n",
    "sns.heatmap(oscar.isnull(), yticklabels = False, cbar = False, cmap = 'viridis')"
   ]
  },
  {
   "cell_type": "code",
   "execution_count": null,
   "id": "3641ac2c",
   "metadata": {},
   "outputs": [],
   "source": [
    "oscar[oscar['user_reviews'].isna()]"
   ]
  },
  {
   "cell_type": "code",
   "execution_count": null,
   "id": "79e3f98b",
   "metadata": {},
   "outputs": [],
   "source": [
    "oscar.loc[oscar[oscar['user_reviews'].isna()].index, 'user_reviews'] = [354, 202, 1238, 249, 273 , 805, 255]"
   ]
  },
  {
   "cell_type": "code",
   "execution_count": null,
   "id": "46b04c7d",
   "metadata": {},
   "outputs": [],
   "source": [
    "oscar[oscar['user_reviews'].isna()]"
   ]
  },
  {
   "cell_type": "code",
   "execution_count": null,
   "id": "9eac2c5a",
   "metadata": {},
   "outputs": [],
   "source": [
    "plt.figure(figsize = (12,10))\n",
    "sns.heatmap(oscar.isnull(), yticklabels = False, cbar = False, cmap = 'viridis')"
   ]
  },
  {
   "cell_type": "code",
   "execution_count": null,
   "id": "bcb243d8",
   "metadata": {},
   "outputs": [],
   "source": [
    "oscar[oscar['gross'].isna()]"
   ]
  },
  {
   "cell_type": "code",
   "execution_count": null,
   "id": "8fd29a0f",
   "metadata": {},
   "outputs": [],
   "source": [
    "oscar.loc[oscar[oscar['gross'].isna()].index,'gross'] = [1724806, 1058905, 281219,\n",
    "                                                  7372769,  4988181, 246439, \n",
    "                                                  1669947, 14924998, 31126421,\n",
    "                                                  46749646, 886407, 3470487,\n",
    "                                                 34854990, 334933831, 85955, \n",
    "                                                 4439481, 614444, 11430025,\n",
    "                                                 6170043, 12748594, 3169553,\n",
    "                                                 4086096, 278454417, 8236 ]"
   ]
  },
  {
   "cell_type": "code",
   "execution_count": null,
   "id": "f5c14a1c",
   "metadata": {},
   "outputs": [],
   "source": [
    "# This does not work to index and replace , do you know why? \n",
    "# oscar['gross'].isna().index)"
   ]
  },
  {
   "cell_type": "code",
   "execution_count": null,
   "id": "3ab37c2c",
   "metadata": {},
   "outputs": [],
   "source": [
    "oscar[oscar['gross'].isna()]"
   ]
  },
  {
   "cell_type": "code",
   "execution_count": null,
   "id": "d16faf66",
   "metadata": {},
   "outputs": [],
   "source": [
    "plt.figure(figsize = (12,10))\n",
    "sns.heatmap(oscar.isnull(), yticklabels = False, cbar = False, cmap = 'viridis')"
   ]
  },
  {
   "cell_type": "code",
   "execution_count": null,
   "id": "ce1a9fb1",
   "metadata": {},
   "outputs": [],
   "source": [
    "oscar[oscar['release_date'].isna()]"
   ]
  },
  {
   "cell_type": "code",
   "execution_count": null,
   "id": "51d12657",
   "metadata": {},
   "outputs": [],
   "source": [
    "oscar.loc[oscar[oscar['release_date'].isna()].index,'release_date'] = ['2017-01-21', '2017-11-17',\n",
    "                                                                       '2017-11-10', '2017-11-10',\n",
    "                                                                      '2017-10-13', '2017-10-05',\n",
    "                                                                       '2018-01-19', '2017-12-25',\n",
    "                                                                       '2017-11-17']"
   ]
  },
  {
   "cell_type": "code",
   "execution_count": null,
   "id": "2635f7a1",
   "metadata": {},
   "outputs": [],
   "source": [
    "oscar[oscar['release_date'].isna()]"
   ]
  },
  {
   "cell_type": "code",
   "execution_count": null,
   "id": "8e5cc1f3",
   "metadata": {},
   "outputs": [],
   "source": [
    "plt.figure(figsize = (12,10))\n",
    "sns.heatmap(oscar.isnull(), yticklabels = False, cbar = False, cmap = 'viridis')"
   ]
  },
  {
   "cell_type": "code",
   "execution_count": null,
   "id": "81227b19",
   "metadata": {},
   "outputs": [],
   "source": [
    "#This is the best we can do.\n",
    "#We can try to impute the metascore based on user_rating (rate)\n",
    "#But we'll save that for another project. \n",
    "\n"
   ]
  },
  {
   "cell_type": "code",
   "execution_count": null,
   "id": "1a8390ce",
   "metadata": {},
   "outputs": [],
   "source": [
    "#Convert release date to date_time\n",
    "oscar['release_date'] = oscar['release_date'].apply(pd.to_datetime) "
   ]
  },
  {
   "cell_type": "code",
   "execution_count": null,
   "id": "c644f2bd",
   "metadata": {},
   "outputs": [],
   "source": [
    "oscar['release_date'].apply(lambda stamp: stamp.month)"
   ]
  },
  {
   "cell_type": "code",
   "execution_count": null,
   "id": "bb8e7bfb",
   "metadata": {},
   "outputs": [],
   "source": [
    "oscar['release_year'] = oscar['release_date'].apply(lambda stamp: stamp.year)  "
   ]
  },
  {
   "cell_type": "code",
   "execution_count": null,
   "id": "43629255",
   "metadata": {},
   "outputs": [],
   "source": [
    "oscar['release_month'] = oscar['release_date'].apply(lambda stamp: stamp.month)  "
   ]
  },
  {
   "cell_type": "code",
   "execution_count": null,
   "id": "20ce629f",
   "metadata": {},
   "outputs": [],
   "source": [
    "oscar['release_day'] = oscar['release_date'].apply(lambda stamp: stamp.day_of_week)  "
   ]
  },
  {
   "cell_type": "code",
   "execution_count": null,
   "id": "707c3b6f",
   "metadata": {},
   "outputs": [],
   "source": [
    "d_dict = {0: 'Sunday', 1: 'Monday', 2: 'Tuesday',\n",
    "3: 'Wednesday', 4: 'Thursday', 5:'Friday', 6:'Saturday'}"
   ]
  },
  {
   "cell_type": "code",
   "execution_count": null,
   "id": "9ad1845f",
   "metadata": {},
   "outputs": [],
   "source": [
    "oscar['release_day_of_week'] = oscar['release_day'].map(d_dict)"
   ]
  },
  {
   "cell_type": "code",
   "execution_count": null,
   "id": "fc3634e0",
   "metadata": {},
   "outputs": [],
   "source": [
    "oscar.columns"
   ]
  },
  {
   "cell_type": "code",
   "execution_count": null,
   "id": "3e55f013",
   "metadata": {},
   "outputs": [],
   "source": [
    "X = oscar[['year', 'movie', 'certificate', 'duration', 'metascore', 'rate',\n",
    "       'user_reviews', 'genre', 'gross', 'release_date','release_year', 'release_month', 'release_day',\n",
    "       'release_day_of_week', 'Oscar_nominated']]"
   ]
  },
  {
   "cell_type": "code",
   "execution_count": null,
   "id": "8113f2c1",
   "metadata": {},
   "outputs": [],
   "source": [
    "X.head()"
   ]
  },
  {
   "cell_type": "code",
   "execution_count": null,
   "id": "e0cafe4e",
   "metadata": {},
   "outputs": [],
   "source": [
    "X['Nominated'] = X['Oscar_nominated'] > 0"
   ]
  },
  {
   "cell_type": "code",
   "execution_count": null,
   "id": "a9236a0a",
   "metadata": {},
   "outputs": [],
   "source": [
    "#Make nominated to win ratio for movies"
   ]
  },
  {
   "cell_type": "code",
   "execution_count": null,
   "id": "88a041ee",
   "metadata": {},
   "outputs": [],
   "source": [
    " s = oscar['Oscar_Best_Picture_won']|oscar['Oscar_Best_Director_won'] | oscar['Oscar_Best_Actor_won'] | oscar['Oscar_Best_Actress_won']| oscar['Oscar_Best_Supporting_Actor_won'] | oscar['Oscar_Best_Supporting_Actor_won'] | oscar['Oscar_Best_Supporting_Actress_won'] | oscar['Oscar_Best_AdaScreen_won'] |oscar['Oscar_Best_OriScreen_won']"
   ]
  },
  {
   "cell_type": "code",
   "execution_count": null,
   "id": "fcd7f309",
   "metadata": {},
   "outputs": [],
   "source": [
    "X['Won'] = s"
   ]
  },
  {
   "cell_type": "code",
   "execution_count": null,
   "id": "49cf56a9",
   "metadata": {},
   "outputs": [],
   "source": [
    "X['Won_Nominated'] = X['Won'] + X['Nominated']"
   ]
  },
  {
   "cell_type": "code",
   "execution_count": null,
   "id": "68b049b2",
   "metadata": {},
   "outputs": [],
   "source": [
    "X['Num_Won'] = oscar['Oscar_Best_Picture_won'] + oscar['Oscar_Best_Director_won'] + oscar['Oscar_Best_Actor_won'] + oscar['Oscar_Best_Actress_won'] + oscar['Oscar_Best_Supporting_Actor_won'] + oscar['Oscar_Best_Supporting_Actor_won'] + oscar['Oscar_Best_Supporting_Actress_won'] + oscar['Oscar_Best_AdaScreen_won'] + oscar['Oscar_Best_OriScreen_won']"
   ]
  },
  {
   "cell_type": "code",
   "execution_count": null,
   "id": "59248ade",
   "metadata": {},
   "outputs": [],
   "source": [
    "X['Win_Ratio'] = (X['Num_Won']/X['Oscar_nominated']).fillna(0)"
   ]
  },
  {
   "cell_type": "code",
   "execution_count": null,
   "id": "0d666dbd",
   "metadata": {},
   "outputs": [],
   "source": [
    "sns.pairplot(X.drop(['release_day_of_week',\t'Oscar_nominated',\t'Nominated',\t'Num_Won', 'Won'], axis =1), hue ='Won_Nominated',\n",
    "            palette = 'Set1')"
   ]
  },
  {
   "cell_type": "code",
   "execution_count": null,
   "id": "338abc18",
   "metadata": {},
   "outputs": [],
   "source": []
  },
  {
   "cell_type": "code",
   "execution_count": null,
   "id": "95e87b26",
   "metadata": {},
   "outputs": [],
   "source": []
  }
 ],
 "metadata": {
  "kernelspec": {
   "display_name": "Python 3 (ipykernel)",
   "language": "python",
   "name": "python3"
  },
  "language_info": {
   "codemirror_mode": {
    "name": "ipython",
    "version": 3
   },
   "file_extension": ".py",
   "mimetype": "text/x-python",
   "name": "python",
   "nbconvert_exporter": "python",
   "pygments_lexer": "ipython3",
   "version": "3.10.4"
  }
 },
 "nbformat": 4,
 "nbformat_minor": 5
}
